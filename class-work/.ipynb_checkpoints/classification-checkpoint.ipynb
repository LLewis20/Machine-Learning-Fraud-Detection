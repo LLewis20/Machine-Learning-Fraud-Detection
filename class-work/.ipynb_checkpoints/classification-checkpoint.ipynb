{
 "cells": [
  {
   "cell_type": "code",
   "execution_count": 1,
   "id": "bf215810-d13d-4be9-8704-a2e30f0db284",
   "metadata": {},
   "outputs": [],
   "source": [
    "import pandas as pd\n",
    "import numpy as np\n",
    "import matplotlib.pyplot as plt\n",
    "from sklearn.model_selection import train_test_split\n",
    "from sklearn.metrics import classification_report\n",
    "from sklearn.tree import DecisionTreeClassifier\n",
    "from sklearn.metrics import confusion_matrix\n",
    "from sklearn.metrics import accuracy_score, precision_score, recall_score, f1_score\n",
    "\n",
    "# reading in data from fraud dataset\n",
    "data_frame = pd.read_csv('FraudDataset\\\\fraudTrain.csv')\n",
    "\n",
    "# getting the month and year seperated from the dob column\n",
    "data_frame['dob_year'] = pd.DatetimeIndex(data_frame['dob']).year\n",
    "data_frame['dob_month'] = pd.DatetimeIndex(data_frame['dob']).month\n",
    "data_frame = data_frame.drop(columns=['dob'])\n",
    "\n",
    "# making gender a numerical value\n",
    "data_frame['gender'] = data_frame['gender'].apply(lambda x: 1 if x == \"M\" else 0)"
   ]
  },
  {
   "cell_type": "markdown",
   "id": "cbe8ce29-7bfa-4183-9aa1-329d9ecf8176",
   "metadata": {},
   "source": [
    "The features that I picked for X are ['dob_year','amt','zip','lat','long','city_pop','unix_time','merch_lat','merch_long']\n",
    "\n",
    "I belive that these features are the most important features that are in the dataset. Most of them have a low corr. by themselves so if we can combine them we might have a better chance.\n"
   ]
  },
  {
   "cell_type": "code",
   "execution_count": 2,
   "id": "e3a38482-7f8b-493d-b7f3-a711f06d7af1",
   "metadata": {},
   "outputs": [],
   "source": [
    "features = ['amt']\n",
    "\n",
    "# splitting the datasets in train/test sets\n",
    "X = data_frame[features]\n",
    "Y = data_frame['is_fraud']\n",
    "\n",
    "\n",
    "tree_classifier = DecisionTreeClassifier()\n",
    "tree_classifier.fit(X,Y)\n",
    "\n",
    "y_predicted = tree_classifier.predict(X)"
   ]
  },
  {
   "cell_type": "code",
   "execution_count": 3,
   "id": "d5fdc1d1-3229-4d6b-993e-37a3aab7a87d",
   "metadata": {},
   "outputs": [
    {
     "name": "stdout",
     "output_type": "stream",
     "text": [
      "[[1289092      77]\n",
      " [   3338    4168]]\n",
      "Accuracy is  0.9973663408332851\n",
      "Precision is  0.9973272185023223\n",
      "Sensitivity is  0.9973663408332851\n",
      "F1 is  0.9970025730783858\n"
     ]
    }
   ],
   "source": [
    "matrix = confusion_matrix(Y, y_predicted)\n",
    "print(matrix)\n",
    "print(\"Accuracy is \", accuracy_score(Y, y_predicted))\n",
    "print(\"Precision is \", precision_score(Y, y_predicted, average='weighted'))\n",
    "print(\"Sensitivity is \", recall_score(Y, y_predicted, average='weighted'))\n",
    "print(\"F1 is \", f1_score(Y, y_predicted, average='weighted'))"
   ]
  },
  {
   "cell_type": "markdown",
   "id": "a1866975-a252-4c54-b59d-24dd3cea76aa",
   "metadata": {},
   "source": [
    "With a 100% accuracy i'm worried that there is major overfitting, or that somehow I might have messed up the code so that my Y is in my X but I don't beleive that I did."
   ]
  },
  {
   "cell_type": "code",
   "execution_count": null,
   "id": "a71625db-23c5-42be-ba16-21bcdab96824",
   "metadata": {},
   "outputs": [],
   "source": [
    "# creating SVM\n",
    "from sklearn.svm import SVC\n",
    "\n",
    "X = data_frame['amt']\n",
    "Y = data_frame['is_fraud']\n",
    "\n",
    "svm_classifier = SVC()\n",
    "svm_classifier.fit(X,Y)\n",
    "\n",
    "y_predicted = svm_classifier.predict(X)\n",
    "matrix = confusion_matrix(Y, y_predicted)"
   ]
  },
  {
   "cell_type": "code",
   "execution_count": null,
   "id": "7dd7f459-a45c-452a-a7fe-d7c2d82ba86b",
   "metadata": {},
   "outputs": [],
   "source": [
    "\n",
    "print(\"Accuracy is \", accuracy_score(Y, y_predicted))\n",
    "print(\"Precision is \", precision_score(Y, y_predicted, average='weighted'))\n",
    "print(\"Sensitivity is \", recall_score(Y, y_predicted, average='weighted'))\n",
    "print(\"F1 is \", f1_score(Y, y_predicted, average='weighted'))"
   ]
  },
  {
   "cell_type": "markdown",
   "id": "d4fb90e6-299a-4639-9c76-f0175d377fa8",
   "metadata": {},
   "source": [
    "* Here is the code to do it but the model is taking over 30 mins to train, if I had to guess it will also have a high accuracy just like the other model did.\n",
    "\n",
    "* With the decision tree with a 100% accuracy score it shows that the data is really overfitted.\n",
    "\n"
   ]
  }
 ],
 "metadata": {
  "kernelspec": {
   "display_name": "Python 3 (ipykernel)",
   "language": "python",
   "name": "python3"
  },
  "language_info": {
   "codemirror_mode": {
    "name": "ipython",
    "version": 3
   },
   "file_extension": ".py",
   "mimetype": "text/x-python",
   "name": "python",
   "nbconvert_exporter": "python",
   "pygments_lexer": "ipython3",
   "version": "3.11.1"
  }
 },
 "nbformat": 4,
 "nbformat_minor": 5
}
